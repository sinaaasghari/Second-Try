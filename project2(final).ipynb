{
 "cells": [
  {
   "cell_type": "code",
   "execution_count": 2,
   "id": "e9404489",
   "metadata": {
    "scrolled": true
   },
   "outputs": [
    {
     "name": "stdout",
     "output_type": "stream",
     "text": [
      "                                              image_path         label\n",
      "0      extracted_train/train\\baked_potato\\000f6c2d-0e...  baked_potato\n",
      "1      extracted_train/train\\baked_potato\\0015fde6-b0...  baked_potato\n",
      "2      extracted_train/train\\baked_potato\\001f10f0-a2...  baked_potato\n",
      "3      extracted_train/train\\baked_potato\\0038c973-a2...  baked_potato\n",
      "4      extracted_train/train\\baked_potato\\004b86f1-59...  baked_potato\n",
      "...                                                  ...           ...\n",
      "24084       extracted_train/train\\sushi\\fd9bfb79-bc2.jpg         sushi\n",
      "24085       extracted_train/train\\sushi\\fe468554-872.jpg         sushi\n",
      "24086       extracted_train/train\\sushi\\ff396597-bfe.jpg         sushi\n",
      "24087       extracted_train/train\\sushi\\ffb818b0-84f.jpg         sushi\n",
      "24088       extracted_train/train\\sushi\\ffd302a7-a21.jpg         sushi\n",
      "\n",
      "[24089 rows x 2 columns]\n"
     ]
    }
   ],
   "source": [
    "import os\n",
    "import pandas as pd\n",
    "from zipfile import ZipFile\n",
    "\n",
    "zip_path = 'D:/sample_jupyter/data_sets/project2/train.zip'\n",
    "\n",
    "with ZipFile(zip_path, 'r') as zip_ref:\n",
    "    zip_ref.extractall('extracted_train')\n",
    "\n",
    "extracted_folder = 'extracted_train/train'\n",
    "\n",
    "data = []\n",
    "\n",
    "for folder in os.listdir(extracted_folder):\n",
    "    folder_path = os.path.join(extracted_folder, folder)\n",
    "    if os.path.isdir(folder_path):\n",
    "        for file in os.listdir(folder_path):\n",
    "            if file.endswith(('.png', '.jpg', '.jpeg')):  # بررسی نوع فایل\n",
    "                file_path = os.path.join(folder_path, file)\n",
    "                data.append([file_path, folder])\n",
    "\n",
    "df = pd.DataFrame(data, columns=['image_path', 'label'])\n",
    "\n",
    "print(df)\n",
    "\n",
    "df.to_csv('preprocessed_dataset.csv', index=False)\n"
   ]
  },
  {
   "cell_type": "code",
   "execution_count": 4,
   "id": "66cdecfc",
   "metadata": {},
   "outputs": [
    {
     "name": "stdout",
     "output_type": "stream",
     "text": [
      "                                                   image         label\n",
      "0      /9j/4AAQSkZJRgABAQAAAQABAAD/2wBDAAgGBgcGBQgHBw...  baked_potato\n",
      "1      /9j/4AAQSkZJRgABAQAAAQABAAD/2wBDAAgGBgcGBQgHBw...  baked_potato\n",
      "2      /9j/4AAQSkZJRgABAQAAAQABAAD/2wBDAAgGBgcGBQgHBw...  baked_potato\n",
      "3      /9j/4AAQSkZJRgABAQAAAQABAAD/2wBDAAgGBgcGBQgHBw...  baked_potato\n",
      "4      /9j/4AAQSkZJRgABAQAAAQABAAD/2wBDAAgGBgcGBQgHBw...  baked_potato\n",
      "...                                                  ...           ...\n",
      "24084  /9j/4AAQSkZJRgABAQEASABIAAD/4QBYRXhpZgAATU0AKg...         sushi\n",
      "24085  /9j/4AAQSkZJRgABAQEASABIAAD/4QDqRXhpZgAATU0AKg...         sushi\n",
      "24086  /9j/4AAQSkZJRgABAQEASABIAAD/4QDqRXhpZgAATU0AKg...         sushi\n",
      "24087  /9j/4AAQSkZJRgABAQEASABIAAD/4QDKRXhpZgAATU0AKg...         sushi\n",
      "24088  /9j/4AAQSkZJRgABAQEAkACQAAD/4QIURXhpZgAATU0AKg...         sushi\n",
      "\n",
      "[24089 rows x 2 columns]\n"
     ]
    }
   ],
   "source": []
  },
  {
   "cell_type": "code",
   "execution_count": 10,
   "id": "eb088e23",
   "metadata": {},
   "outputs": [
    {
     "name": "stdout",
     "output_type": "stream",
     "text": [
      "                                              image_path         label\n",
      "0      extracted_train/train\\baked_potato\\000f6c2d-0e...  baked_potato\n",
      "1      extracted_train/train\\baked_potato\\0015fde6-b0...  baked_potato\n",
      "2      extracted_train/train\\baked_potato\\001f10f0-a2...  baked_potato\n",
      "3      extracted_train/train\\baked_potato\\0038c973-a2...  baked_potato\n",
      "4      extracted_train/train\\baked_potato\\004b86f1-59...  baked_potato\n",
      "...                                                  ...           ...\n",
      "24079       extracted_train/train\\sushi\\fd9bfb79-bc2.jpg         sushi\n",
      "24080       extracted_train/train\\sushi\\fe468554-872.jpg         sushi\n",
      "24081       extracted_train/train\\sushi\\ff396597-bfe.jpg         sushi\n",
      "24082       extracted_train/train\\sushi\\ffb818b0-84f.jpg         sushi\n",
      "24083       extracted_train/train\\sushi\\ffd302a7-a21.jpg         sushi\n",
      "\n",
      "[24084 rows x 2 columns]\n"
     ]
    }
   ],
   "source": [
    "import os\n",
    "import pandas as pd\n",
    "from zipfile import ZipFile\n",
    "from PIL import Image\n",
    "\n",
    "zip_path = 'D:/sample_jupyter/data_sets/project2/train.zip'\n",
    "\n",
    "with ZipFile(zip_path, 'r') as zip_ref:\n",
    "    zip_ref.extractall('extracted_train')\n",
    "\n",
    "extracted_folder = 'extracted_train/train'\n",
    "\n",
    "data = []\n",
    "\n",
    "def is_valid_image(file_path):\n",
    "    try:\n",
    "        img = Image.open(file_path)\n",
    "        img.verify()  # بررسی اگر تصویر معتبر است\n",
    "        return True\n",
    "    except (IOError, SyntaxError):\n",
    "        return False\n",
    "\n",
    "for folder in os.listdir(extracted_folder):\n",
    "    folder_path = os.path.join(extracted_folder, folder)\n",
    "    if os.path.isdir(folder_path):\n",
    "        for file in os.listdir(folder_path):\n",
    "            if file.endswith(('.png', '.jpg', '.jpeg')):   \n",
    "                file_path = os.path.join(folder_path, file)\n",
    "                if is_valid_image(file_path):  \n",
    "                    data.append([file_path, folder])\n",
    "\n",
    "df = pd.DataFrame(data, columns=['image_path', 'label'])\n",
    "\n",
    "print(df)\n",
    "\n",
    "df.to_csv('preprocessed_dataset.csv', index=False)\n"
   ]
  },
  {
   "cell_type": "code",
   "execution_count": 6,
   "id": "0716cf0b",
   "metadata": {},
   "outputs": [
    {
     "name": "stderr",
     "output_type": "stream",
     "text": [
      "F:\\anaconda\\Lib\\site-packages\\keras\\src\\layers\\convolutional\\base_conv.py:107: UserWarning: Do not pass an `input_shape`/`input_dim` argument to a layer. When using Sequential models, prefer using an `Input(shape)` object as the first layer in the model instead.\n",
      "  super().__init__(activity_regularizer=activity_regularizer, **kwargs)\n"
     ]
    }
   ],
   "source": []
  },
  {
   "cell_type": "code",
   "execution_count": 11,
   "id": "c3f62919",
   "metadata": {},
   "outputs": [
    {
     "name": "stdout",
     "output_type": "stream",
     "text": [
      "Found 19267 validated image filenames belonging to 22 classes.\n",
      "Found 4817 validated image filenames belonging to 22 classes.\n"
     ]
    }
   ],
   "source": [
    "import tensorflow as tf\n",
    "from tensorflow.keras.preprocessing.image import ImageDataGenerator\n",
    "import pandas as pd\n",
    "import os\n",
    "\n",
    "df = pd.read_csv('preprocessed_dataset.csv')\n",
    "\n",
    "from sklearn.model_selection import train_test_split\n",
    "\n",
    "train_df, val_df = train_test_split(df, test_size=0.2, stratify=df['label'], random_state=42)\n",
    "\n",
    "train_datagen = ImageDataGenerator(rescale=1./255, validation_split=0.2)\n",
    "val_datagen = ImageDataGenerator(rescale=1./255)\n",
    "\n",
    "train_generator = train_datagen.flow_from_dataframe(\n",
    "    train_df,\n",
    "    x_col='image_path',\n",
    "    y_col='label',\n",
    "    target_size=(150, 150),\n",
    "    batch_size=32,\n",
    "    class_mode='categorical'\n",
    ")\n",
    "\n",
    "val_generator = val_datagen.flow_from_dataframe(\n",
    "    val_df,\n",
    "    x_col='image_path',\n",
    "    y_col='label',\n",
    "    target_size=(150, 150),\n",
    "    batch_size=32,\n",
    "    class_mode='categorical'\n",
    ")\n"
   ]
  },
  {
   "cell_type": "code",
   "execution_count": 12,
   "id": "08a533dd",
   "metadata": {},
   "outputs": [
    {
     "name": "stderr",
     "output_type": "stream",
     "text": [
      "F:\\anaconda\\Lib\\site-packages\\keras\\src\\layers\\convolutional\\base_conv.py:107: UserWarning: Do not pass an `input_shape`/`input_dim` argument to a layer. When using Sequential models, prefer using an `Input(shape)` object as the first layer in the model instead.\n",
      "  super().__init__(activity_regularizer=activity_regularizer, **kwargs)\n"
     ]
    }
   ],
   "source": [
    "from tensorflow.keras.models import Sequential\n",
    "from tensorflow.keras.layers import Conv2D, MaxPooling2D, Flatten, Dense, Dropout\n",
    "\n",
    "model = Sequential([\n",
    "    Conv2D(32, (3, 3), activation='relu', input_shape=(150, 150, 3)),\n",
    "    MaxPooling2D((2, 2)),\n",
    "    Conv2D(64, (3, 3), activation='relu'),\n",
    "    MaxPooling2D((2, 2)),\n",
    "    Conv2D(128, (3, 3), activation='relu'),\n",
    "    MaxPooling2D((2, 2)),\n",
    "    Flatten(),\n",
    "    Dense(512, activation='relu'),\n",
    "    Dropout(0.5),\n",
    "    Dense(len(train_generator.class_indices), activation='softmax')\n",
    "])\n",
    "\n",
    "model.compile(loss='categorical_crossentropy', optimizer='adam', metrics=['accuracy'])\n"
   ]
  },
  {
   "cell_type": "code",
   "execution_count": 13,
   "id": "cd94526b",
   "metadata": {},
   "outputs": [
    {
     "name": "stdout",
     "output_type": "stream",
     "text": [
      "Epoch 1/10\n"
     ]
    },
    {
     "name": "stderr",
     "output_type": "stream",
     "text": [
      "F:\\anaconda\\Lib\\site-packages\\keras\\src\\trainers\\data_adapters\\py_dataset_adapter.py:121: UserWarning: Your `PyDataset` class should call `super().__init__(**kwargs)` in its constructor. `**kwargs` can include `workers`, `use_multiprocessing`, `max_queue_size`. Do not pass these arguments to `fit()`, as they will be ignored.\n",
      "  self._warn_if_super_not_called()\n"
     ]
    },
    {
     "name": "stdout",
     "output_type": "stream",
     "text": [
      "\u001b[1m602/602\u001b[0m \u001b[32m━━━━━━━━━━━━━━━━━━━━\u001b[0m\u001b[37m\u001b[0m \u001b[1m186s\u001b[0m 307ms/step - accuracy: 0.1474 - loss: 2.8868 - val_accuracy: 0.2579 - val_loss: 2.4580\n",
      "Epoch 2/10\n",
      "\u001b[1m602/602\u001b[0m \u001b[32m━━━━━━━━━━━━━━━━━━━━\u001b[0m\u001b[37m\u001b[0m \u001b[1m0s\u001b[0m 176us/step - accuracy: 0.2500 - loss: 2.3924 - val_accuracy: 0.0588 - val_loss: 2.7138\n",
      "Epoch 3/10\n"
     ]
    },
    {
     "name": "stderr",
     "output_type": "stream",
     "text": [
      "F:\\anaconda\\Lib\\contextlib.py:155: UserWarning: Your input ran out of data; interrupting training. Make sure that your dataset or generator can generate at least `steps_per_epoch * epochs` batches. You may need to use the `.repeat()` function when building your dataset.\n",
      "  self.gen.throw(typ, value, traceback)\n"
     ]
    },
    {
     "name": "stdout",
     "output_type": "stream",
     "text": [
      "\u001b[1m602/602\u001b[0m \u001b[32m━━━━━━━━━━━━━━━━━━━━\u001b[0m\u001b[37m\u001b[0m \u001b[1m217s\u001b[0m 359ms/step - accuracy: 0.2633 - loss: 2.4624 - val_accuracy: 0.3258 - val_loss: 2.2616\n",
      "Epoch 4/10\n",
      "\u001b[1m602/602\u001b[0m \u001b[32m━━━━━━━━━━━━━━━━━━━━\u001b[0m\u001b[37m\u001b[0m \u001b[1m0s\u001b[0m 104us/step - accuracy: 0.1875 - loss: 2.6253 - val_accuracy: 0.4118 - val_loss: 2.1525\n",
      "Epoch 5/10\n",
      "\u001b[1m602/602\u001b[0m \u001b[32m━━━━━━━━━━━━━━━━━━━━\u001b[0m\u001b[37m\u001b[0m \u001b[1m202s\u001b[0m 334ms/step - accuracy: 0.3476 - loss: 2.1839 - val_accuracy: 0.3738 - val_loss: 2.0667\n",
      "Epoch 6/10\n",
      "\u001b[1m602/602\u001b[0m \u001b[32m━━━━━━━━━━━━━━━━━━━━\u001b[0m\u001b[37m\u001b[0m \u001b[1m0s\u001b[0m 119us/step - accuracy: 0.4375 - loss: 1.9362 - val_accuracy: 0.2353 - val_loss: 2.2725\n",
      "Epoch 7/10\n",
      "\u001b[1m602/602\u001b[0m \u001b[32m━━━━━━━━━━━━━━━━━━━━\u001b[0m\u001b[37m\u001b[0m \u001b[1m194s\u001b[0m 322ms/step - accuracy: 0.4177 - loss: 1.9180 - val_accuracy: 0.4038 - val_loss: 1.9897\n",
      "Epoch 8/10\n",
      "\u001b[1m602/602\u001b[0m \u001b[32m━━━━━━━━━━━━━━━━━━━━\u001b[0m\u001b[37m\u001b[0m \u001b[1m0s\u001b[0m 99us/step - accuracy: 0.3438 - loss: 2.0090 - val_accuracy: 0.4706 - val_loss: 2.0059\n",
      "Epoch 9/10\n",
      "\u001b[1m602/602\u001b[0m \u001b[32m━━━━━━━━━━━━━━━━━━━━\u001b[0m\u001b[37m\u001b[0m \u001b[1m195s\u001b[0m 323ms/step - accuracy: 0.5160 - loss: 1.6053 - val_accuracy: 0.4227 - val_loss: 2.0095\n",
      "Epoch 10/10\n",
      "\u001b[1m602/602\u001b[0m \u001b[32m━━━━━━━━━━━━━━━━━━━━\u001b[0m\u001b[37m\u001b[0m \u001b[1m0s\u001b[0m 108us/step - accuracy: 0.5000 - loss: 1.5479 - val_accuracy: 0.3529 - val_loss: 2.3923\n"
     ]
    }
   ],
   "source": [
    "history = model.fit(\n",
    "    train_generator,\n",
    "    steps_per_epoch=train_generator.samples // train_generator.batch_size,\n",
    "    validation_data=val_generator,\n",
    "    validation_steps=val_generator.samples // val_generator.batch_size,\n",
    "    epochs=10\n",
    ")\n"
   ]
  },
  {
   "cell_type": "code",
   "execution_count": 14,
   "id": "78ac5406",
   "metadata": {},
   "outputs": [
    {
     "name": "stdout",
     "output_type": "stream",
     "text": [
      "\u001b[1m151/151\u001b[0m \u001b[32m━━━━━━━━━━━━━━━━━━━━\u001b[0m\u001b[37m\u001b[0m \u001b[1m22s\u001b[0m 144ms/step - accuracy: 0.4319 - loss: 2.0071\n",
      "Validation accuracy: 0.42329251766204834\n"
     ]
    }
   ],
   "source": [
    "loss, accuracy = model.evaluate(val_generator)\n",
    "print(f'Validation accuracy: {accuracy}')"
   ]
  }
 ],
 "metadata": {
  "kernelspec": {
   "display_name": "Python 3 (ipykernel)",
   "language": "python",
   "name": "python3"
  },
  "language_info": {
   "codemirror_mode": {
    "name": "ipython",
    "version": 3
   },
   "file_extension": ".py",
   "mimetype": "text/x-python",
   "name": "python",
   "nbconvert_exporter": "python",
   "pygments_lexer": "ipython3",
   "version": "3.11.4"
  }
 },
 "nbformat": 4,
 "nbformat_minor": 5
}
