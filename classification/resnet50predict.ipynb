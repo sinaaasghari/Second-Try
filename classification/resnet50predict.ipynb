{
 "cells": [
  {
   "cell_type": "code",
   "execution_count": 11,
   "metadata": {},
   "outputs": [],
   "source": [
    "import tensorflow as tf\n",
    "import numpy as np\n",
    "from datasets import load_dataset\n",
    "import pandas as pd \n",
    "import os "
   ]
  },
  {
   "cell_type": "code",
   "execution_count": 3,
   "metadata": {},
   "outputs": [
    {
     "name": "stderr",
     "output_type": "stream",
     "text": [
      "WARNING: All log messages before absl::InitializeLog() is called are written to STDERR\n",
      "I0000 00:00:1721892497.875051   10380 cuda_executor.cc:1015] successful NUMA node read from SysFS had negative value (-1), but there must be at least one NUMA node, so returning NUMA node zero. See more at https://github.com/torvalds/linux/blob/v6.0/Documentation/ABI/testing/sysfs-bus-pci#L344-L355\n",
      "I0000 00:00:1721892498.004868   10380 cuda_executor.cc:1015] successful NUMA node read from SysFS had negative value (-1), but there must be at least one NUMA node, so returning NUMA node zero. See more at https://github.com/torvalds/linux/blob/v6.0/Documentation/ABI/testing/sysfs-bus-pci#L344-L355\n",
      "I0000 00:00:1721892498.006973   10380 cuda_executor.cc:1015] successful NUMA node read from SysFS had negative value (-1), but there must be at least one NUMA node, so returning NUMA node zero. See more at https://github.com/torvalds/linux/blob/v6.0/Documentation/ABI/testing/sysfs-bus-pci#L344-L355\n",
      "I0000 00:00:1721892498.011033   10380 cuda_executor.cc:1015] successful NUMA node read from SysFS had negative value (-1), but there must be at least one NUMA node, so returning NUMA node zero. See more at https://github.com/torvalds/linux/blob/v6.0/Documentation/ABI/testing/sysfs-bus-pci#L344-L355\n",
      "I0000 00:00:1721892498.013254   10380 cuda_executor.cc:1015] successful NUMA node read from SysFS had negative value (-1), but there must be at least one NUMA node, so returning NUMA node zero. See more at https://github.com/torvalds/linux/blob/v6.0/Documentation/ABI/testing/sysfs-bus-pci#L344-L355\n",
      "I0000 00:00:1721892498.015100   10380 cuda_executor.cc:1015] successful NUMA node read from SysFS had negative value (-1), but there must be at least one NUMA node, so returning NUMA node zero. See more at https://github.com/torvalds/linux/blob/v6.0/Documentation/ABI/testing/sysfs-bus-pci#L344-L355\n",
      "I0000 00:00:1721892498.139545   10380 cuda_executor.cc:1015] successful NUMA node read from SysFS had negative value (-1), but there must be at least one NUMA node, so returning NUMA node zero. See more at https://github.com/torvalds/linux/blob/v6.0/Documentation/ABI/testing/sysfs-bus-pci#L344-L355\n",
      "I0000 00:00:1721892498.141678   10380 cuda_executor.cc:1015] successful NUMA node read from SysFS had negative value (-1), but there must be at least one NUMA node, so returning NUMA node zero. See more at https://github.com/torvalds/linux/blob/v6.0/Documentation/ABI/testing/sysfs-bus-pci#L344-L355\n",
      "I0000 00:00:1721892498.143643   10380 cuda_executor.cc:1015] successful NUMA node read from SysFS had negative value (-1), but there must be at least one NUMA node, so returning NUMA node zero. See more at https://github.com/torvalds/linux/blob/v6.0/Documentation/ABI/testing/sysfs-bus-pci#L344-L355\n",
      "2024-07-25 10:58:18.145946: I tensorflow/core/common_runtime/gpu/gpu_device.cc:2021] Created device /job:localhost/replica:0/task:0/device:GPU:0 with 6183 MB memory:  -> device: 0, name: NVIDIA GeForce RTX 3070 Laptop GPU, pci bus id: 0000:01:00.0, compute capability: 8.6\n"
     ]
    }
   ],
   "source": [
    "model1 = tf.keras.models.load_model('../../image_classification.keras')"
   ]
  },
  {
   "cell_type": "code",
   "execution_count": 5,
   "metadata": {},
   "outputs": [
    {
     "name": "stderr",
     "output_type": "stream",
     "text": [
      "Downloading data: 100%|██████████| 22/22 [00:00<00:00, 137929.28files/s]\n",
      "Generating train split: 22 examples [00:00, 1018.42 examples/s]\n"
     ]
    },
    {
     "data": {
      "text/plain": [
       "Dataset({\n",
       "    features: ['image'],\n",
       "    num_rows: 22\n",
       "})"
      ]
     },
     "execution_count": 5,
     "metadata": {},
     "output_type": "execute_result"
    }
   ],
   "source": [
    "dataset = load_dataset(\"../../test_temp\")['train']\n",
    "dataset"
   ]
  },
  {
   "cell_type": "code",
   "execution_count": 8,
   "metadata": {},
   "outputs": [],
   "source": [
    "labels=['baked_potato',\n",
    " 'baklava',\n",
    " 'caesar_salad',\n",
    " 'cheese_sandwich',\n",
    " 'cheesecake',\n",
    " 'chicken',\n",
    " 'chicken_curry',\n",
    " 'chocolate_cake',\n",
    " 'donuts',\n",
    " 'eggs',\n",
    " 'falafel',\n",
    " 'fish',\n",
    " 'french_fries',\n",
    " 'hamburger',\n",
    " 'hot_dog',\n",
    " 'ice_cream',\n",
    " 'lasagna',\n",
    " 'omelette',\n",
    " 'pizza',\n",
    " 'spaghetti',\n",
    " 'steak',\n",
    " 'sushi',]"
   ]
  },
  {
   "cell_type": "code",
   "execution_count": 7,
   "metadata": {},
   "outputs": [
    {
     "name": "stderr",
     "output_type": "stream",
     "text": [
      "WARNING: All log messages before absl::InitializeLog() is called are written to STDERR\n",
      "I0000 00:00:1721892723.057229   10692 service.cc:146] XLA service 0x790ce004b540 initialized for platform CUDA (this does not guarantee that XLA will be used). Devices:\n",
      "I0000 00:00:1721892723.057273   10692 service.cc:154]   StreamExecutor device (0): NVIDIA GeForce RTX 3070 Laptop GPU, Compute Capability 8.6\n",
      "2024-07-25 11:02:03.153387: I tensorflow/compiler/mlir/tensorflow/utils/dump_mlir_util.cc:268] disabling MLIR crash reproducer, set env var `MLIR_CRASH_REPRODUCER_DIRECTORY` to enable.\n",
      "2024-07-25 11:02:03.636353: I external/local_xla/xla/stream_executor/cuda/cuda_dnn.cc:531] Loaded cuDNN version 8902\n"
     ]
    },
    {
     "name": "stdout",
     "output_type": "stream",
     "text": [
      "\u001b[1m1/1\u001b[0m \u001b[32m━━━━━━━━━━━━━━━━━━━━\u001b[0m\u001b[37m\u001b[0m \u001b[1m5s\u001b[0m 5s/step\n"
     ]
    },
    {
     "name": "stderr",
     "output_type": "stream",
     "text": [
      "I0000 00:00:1721892726.819555   10692 device_compiler.h:188] Compiled cluster using XLA!  This line is logged at most once for the lifetime of the process.\n"
     ]
    }
   ],
   "source": [
    "mean = np.array([103.939, 116.779, 123.68])\n",
    "\n",
    "def preprocess_image(image, mean):\n",
    "    image = tf.image.resize(image, [224, 224])\n",
    "    image = image[..., ::-1]  \n",
    "    image = image - mean \n",
    "    return image\n",
    "\n",
    "def generate_label(model, dataset, batch_size=32):\n",
    "    y_pred = []\n",
    "\n",
    "    images = dataset['image']\n",
    "    num_samples = len(images)\n",
    "    \n",
    "    for start_idx in range(0, num_samples, batch_size):\n",
    "        end_idx = min(start_idx + batch_size, num_samples)\n",
    "        batch_images = images[start_idx:end_idx]\n",
    "        \n",
    "        list1 = []\n",
    "        for image in batch_images:\n",
    "            list1.append(preprocess_image(image, mean))\n",
    "        \n",
    "        batch_images_tensor = tf.stack(list1)\n",
    "        \n",
    "        predictions = model.predict(batch_images_tensor)\n",
    "        predicted_labels = np.argmax(predictions, axis=1)\n",
    "        \n",
    "        y_pred.extend(predicted_labels)\n",
    "    \n",
    "    return y_pred\n",
    "\n",
    "pred = generate_label(model1, dataset)\n"
   ]
  },
  {
   "cell_type": "code",
   "execution_count": 9,
   "metadata": {},
   "outputs": [
    {
     "data": {
      "text/plain": [
       "[21, 20, 19, 9, 13, 12, 3, 17, 0, 4, 1, 10, 16, 6, 18, 1, 7, 8, 2, 12, 11, 15]"
      ]
     },
     "execution_count": 9,
     "metadata": {},
     "output_type": "execute_result"
    }
   ],
   "source": [
    "pred"
   ]
  },
  {
   "cell_type": "code",
   "execution_count": 13,
   "metadata": {},
   "outputs": [
    {
     "data": {
      "text/plain": [
       "['0a4ce48c-848.jpg',\n",
       " '0a4aefd5-63c.jpg',\n",
       " '0a71fc11-924.jpg',\n",
       " '0a46021e-aba.jpg',\n",
       " '0aa23050-e3d.jpg',\n",
       " '0a24d7d4-ef5.jpg',\n",
       " '0a0faecd-f38.jpg',\n",
       " '0a0b2ba8-983.jpg',\n",
       " '0a5c9e70-66b.jpg',\n",
       " '0a4b6ec9-9c7.jpg',\n",
       " '0a305d4d-5f3.jpg',\n",
       " '000a03f9-b19.jpg',\n",
       " '0a1a6049-7f1.jpg',\n",
       " '0ad04974-c32.jpg',\n",
       " '0a1fc4af-8ac.jpg',\n",
       " '0a3ebd67-e44.jpg',\n",
       " '0a2f42a1-3b5.jpg',\n",
       " '0a1ef149-db7.jpg',\n",
       " '0a7c8316-5b5.jpg',\n",
       " '0a6bae39-72d.jpg',\n",
       " '0a273edc-2dd.jpg',\n",
       " '0a4cbcdd-498.jpg']"
      ]
     },
     "execution_count": 13,
     "metadata": {},
     "output_type": "execute_result"
    }
   ],
   "source": [
    "Files_Name = os.listdir(\"../../test_temp\")\n",
    "Files_Name"
   ]
  },
  {
   "cell_type": "code",
   "execution_count": 16,
   "metadata": {},
   "outputs": [],
   "source": [
    "q1_submission_resnet=pd.DataFrame(np.array([Files_Name ,[labels[item] for item in pred]]).T,columns=['name','predicted'])\n"
   ]
  },
  {
   "cell_type": "code",
   "execution_count": 17,
   "metadata": {},
   "outputs": [
    {
     "data": {
      "text/html": [
       "<div>\n",
       "<style scoped>\n",
       "    .dataframe tbody tr th:only-of-type {\n",
       "        vertical-align: middle;\n",
       "    }\n",
       "\n",
       "    .dataframe tbody tr th {\n",
       "        vertical-align: top;\n",
       "    }\n",
       "\n",
       "    .dataframe thead th {\n",
       "        text-align: right;\n",
       "    }\n",
       "</style>\n",
       "<table border=\"1\" class=\"dataframe\">\n",
       "  <thead>\n",
       "    <tr style=\"text-align: right;\">\n",
       "      <th></th>\n",
       "      <th>name</th>\n",
       "      <th>predicted</th>\n",
       "    </tr>\n",
       "  </thead>\n",
       "  <tbody>\n",
       "    <tr>\n",
       "      <th>0</th>\n",
       "      <td>0a4ce48c-848.jpg</td>\n",
       "      <td>sushi</td>\n",
       "    </tr>\n",
       "    <tr>\n",
       "      <th>1</th>\n",
       "      <td>0a4aefd5-63c.jpg</td>\n",
       "      <td>steak</td>\n",
       "    </tr>\n",
       "    <tr>\n",
       "      <th>2</th>\n",
       "      <td>0a71fc11-924.jpg</td>\n",
       "      <td>spaghetti</td>\n",
       "    </tr>\n",
       "    <tr>\n",
       "      <th>3</th>\n",
       "      <td>0a46021e-aba.jpg</td>\n",
       "      <td>eggs</td>\n",
       "    </tr>\n",
       "    <tr>\n",
       "      <th>4</th>\n",
       "      <td>0aa23050-e3d.jpg</td>\n",
       "      <td>hamburger</td>\n",
       "    </tr>\n",
       "    <tr>\n",
       "      <th>5</th>\n",
       "      <td>0a24d7d4-ef5.jpg</td>\n",
       "      <td>french_fries</td>\n",
       "    </tr>\n",
       "    <tr>\n",
       "      <th>6</th>\n",
       "      <td>0a0faecd-f38.jpg</td>\n",
       "      <td>cheese_sandwich</td>\n",
       "    </tr>\n",
       "    <tr>\n",
       "      <th>7</th>\n",
       "      <td>0a0b2ba8-983.jpg</td>\n",
       "      <td>omelette</td>\n",
       "    </tr>\n",
       "    <tr>\n",
       "      <th>8</th>\n",
       "      <td>0a5c9e70-66b.jpg</td>\n",
       "      <td>baked_potato</td>\n",
       "    </tr>\n",
       "    <tr>\n",
       "      <th>9</th>\n",
       "      <td>0a4b6ec9-9c7.jpg</td>\n",
       "      <td>cheesecake</td>\n",
       "    </tr>\n",
       "    <tr>\n",
       "      <th>10</th>\n",
       "      <td>0a305d4d-5f3.jpg</td>\n",
       "      <td>baklava</td>\n",
       "    </tr>\n",
       "    <tr>\n",
       "      <th>11</th>\n",
       "      <td>000a03f9-b19.jpg</td>\n",
       "      <td>falafel</td>\n",
       "    </tr>\n",
       "    <tr>\n",
       "      <th>12</th>\n",
       "      <td>0a1a6049-7f1.jpg</td>\n",
       "      <td>lasagna</td>\n",
       "    </tr>\n",
       "    <tr>\n",
       "      <th>13</th>\n",
       "      <td>0ad04974-c32.jpg</td>\n",
       "      <td>chicken_curry</td>\n",
       "    </tr>\n",
       "    <tr>\n",
       "      <th>14</th>\n",
       "      <td>0a1fc4af-8ac.jpg</td>\n",
       "      <td>pizza</td>\n",
       "    </tr>\n",
       "    <tr>\n",
       "      <th>15</th>\n",
       "      <td>0a3ebd67-e44.jpg</td>\n",
       "      <td>baklava</td>\n",
       "    </tr>\n",
       "    <tr>\n",
       "      <th>16</th>\n",
       "      <td>0a2f42a1-3b5.jpg</td>\n",
       "      <td>chocolate_cake</td>\n",
       "    </tr>\n",
       "    <tr>\n",
       "      <th>17</th>\n",
       "      <td>0a1ef149-db7.jpg</td>\n",
       "      <td>donuts</td>\n",
       "    </tr>\n",
       "    <tr>\n",
       "      <th>18</th>\n",
       "      <td>0a7c8316-5b5.jpg</td>\n",
       "      <td>caesar_salad</td>\n",
       "    </tr>\n",
       "    <tr>\n",
       "      <th>19</th>\n",
       "      <td>0a6bae39-72d.jpg</td>\n",
       "      <td>french_fries</td>\n",
       "    </tr>\n",
       "    <tr>\n",
       "      <th>20</th>\n",
       "      <td>0a273edc-2dd.jpg</td>\n",
       "      <td>fish</td>\n",
       "    </tr>\n",
       "    <tr>\n",
       "      <th>21</th>\n",
       "      <td>0a4cbcdd-498.jpg</td>\n",
       "      <td>ice_cream</td>\n",
       "    </tr>\n",
       "  </tbody>\n",
       "</table>\n",
       "</div>"
      ],
      "text/plain": [
       "                name        predicted\n",
       "0   0a4ce48c-848.jpg            sushi\n",
       "1   0a4aefd5-63c.jpg            steak\n",
       "2   0a71fc11-924.jpg        spaghetti\n",
       "3   0a46021e-aba.jpg             eggs\n",
       "4   0aa23050-e3d.jpg        hamburger\n",
       "5   0a24d7d4-ef5.jpg     french_fries\n",
       "6   0a0faecd-f38.jpg  cheese_sandwich\n",
       "7   0a0b2ba8-983.jpg         omelette\n",
       "8   0a5c9e70-66b.jpg     baked_potato\n",
       "9   0a4b6ec9-9c7.jpg       cheesecake\n",
       "10  0a305d4d-5f3.jpg          baklava\n",
       "11  000a03f9-b19.jpg          falafel\n",
       "12  0a1a6049-7f1.jpg          lasagna\n",
       "13  0ad04974-c32.jpg    chicken_curry\n",
       "14  0a1fc4af-8ac.jpg            pizza\n",
       "15  0a3ebd67-e44.jpg          baklava\n",
       "16  0a2f42a1-3b5.jpg   chocolate_cake\n",
       "17  0a1ef149-db7.jpg           donuts\n",
       "18  0a7c8316-5b5.jpg     caesar_salad\n",
       "19  0a6bae39-72d.jpg     french_fries\n",
       "20  0a273edc-2dd.jpg             fish\n",
       "21  0a4cbcdd-498.jpg        ice_cream"
      ]
     },
     "execution_count": 17,
     "metadata": {},
     "output_type": "execute_result"
    }
   ],
   "source": [
    "q1_submission_resnet"
   ]
  },
  {
   "cell_type": "code",
   "execution_count": 22,
   "metadata": {},
   "outputs": [],
   "source": [
    "q1_submission_resnet.to_csv('q1_submission_res.csv', index=False)"
   ]
  }
 ],
 "metadata": {
  "kernelspec": {
   "display_name": "quera",
   "language": "python",
   "name": "python3"
  },
  "language_info": {
   "codemirror_mode": {
    "name": "ipython",
    "version": 3
   },
   "file_extension": ".py",
   "mimetype": "text/x-python",
   "name": "python",
   "nbconvert_exporter": "python",
   "pygments_lexer": "ipython3",
   "version": "3.10.12"
  }
 },
 "nbformat": 4,
 "nbformat_minor": 2
}
